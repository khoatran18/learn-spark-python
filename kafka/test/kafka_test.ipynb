{
 "cells": [
  {
   "cell_type": "code",
   "id": "initial_id",
   "metadata": {
    "collapsed": true,
    "ExecuteTime": {
     "end_time": "2025-10-23T08:12:55.163447Z",
     "start_time": "2025-10-23T08:12:55.159345Z"
    }
   },
   "source": [
    "import sys\n",
    "\n",
    "from confluent_kafka import Consumer, Producer, KafkaError\n",
    "import socket\n"
   ],
   "outputs": [],
   "execution_count": 11
  },
  {
   "metadata": {
    "ExecuteTime": {
     "end_time": "2025-10-23T08:12:55.225444Z",
     "start_time": "2025-10-23T08:12:55.213781Z"
    }
   },
   "cell_type": "code",
   "source": [
    "conf_p1 = {\n",
    "    'bootstrap.servers': 'localhost:9092',\n",
    "    'client.id': socket.gethostname(),\n",
    "}\n",
    "\n",
    "producer = Producer(conf_p1)\n",
    "\n",
    "conf_c1 = {\n",
    "    'bootstrap.servers': 'localhost:9092',\n",
    "    'group.id': 'test',\n",
    "    'enable.auto.commit': 'false',\n",
    "    'auto.offset.reset': 'earliest'\n",
    "}\n",
    "consumer = Consumer(conf_c1)"
   ],
   "id": "32642ac737b46ec2",
   "outputs": [],
   "execution_count": 12
  },
  {
   "metadata": {
    "ExecuteTime": {
     "end_time": "2025-10-23T08:12:55.241626Z",
     "start_time": "2025-10-23T08:12:55.238301Z"
    }
   },
   "cell_type": "code",
   "source": "topic = 'test'",
   "id": "1e4effef2f66e20",
   "outputs": [],
   "execution_count": 13
  },
  {
   "metadata": {
    "ExecuteTime": {
     "end_time": "2025-10-23T08:12:55.293016Z",
     "start_time": "2025-10-23T08:12:55.287904Z"
    }
   },
   "cell_type": "code",
   "source": [
    "def acked(err, msg):\n",
    "    if err is not None:\n",
    "        print(\"Failed to delivery message: %s: %s\" % (str(msg), str(err)))\n",
    "    else:\n",
    "        print(\"Message produced\")"
   ],
   "id": "81bb87dd303829e0",
   "outputs": [],
   "execution_count": 14
  },
  {
   "metadata": {
    "ExecuteTime": {
     "end_time": "2025-10-23T08:12:55.345703Z",
     "start_time": "2025-10-23T08:12:55.342910Z"
    }
   },
   "cell_type": "code",
   "source": "producer.produce(topic, key='key', value='value', callback=acked)",
   "id": "803df8614781fbd3",
   "outputs": [],
   "execution_count": 15
  },
  {
   "metadata": {
    "ExecuteTime": {
     "end_time": "2025-10-23T08:12:55.407733Z",
     "start_time": "2025-10-23T08:12:55.401006Z"
    }
   },
   "cell_type": "code",
   "source": "producer.flush()",
   "id": "6573e55ff3fa1c00",
   "outputs": [
    {
     "name": "stdout",
     "output_type": "stream",
     "text": [
      "Message produced\n"
     ]
    },
    {
     "data": {
      "text/plain": [
       "0"
      ]
     },
     "execution_count": 16,
     "metadata": {},
     "output_type": "execute_result"
    }
   ],
   "execution_count": 16
  },
  {
   "metadata": {
    "ExecuteTime": {
     "end_time": "2025-10-23T08:12:55.493001Z",
     "start_time": "2025-10-23T08:12:55.487010Z"
    }
   },
   "cell_type": "code",
   "source": [
    "def consume_loop(consumer, topics, msg_process, min_commit_count):\n",
    "    try:\n",
    "        consumer.subscribe(topics)\n",
    "        msg_count = 0\n",
    "        while running:\n",
    "            msg = consumer.poll(timeout=1.0)\n",
    "            if msg is None:\n",
    "                continue\n",
    "            if msg.error():\n",
    "                if msg.error().code == KafkaError._PARTITION_EOF:\n",
    "                    sys.stderr.write('%% %s [%d] reached end at offset %d\\n'\n",
    "                                     % (msg.topic(), msg.partition(), msg.offset()))\n",
    "                elif msg.error():\n",
    "                    raise KafkaException(msg.error())\n",
    "            else:\n",
    "                msg_process(msg)\n",
    "                msg_count += 1\n",
    "                if msg_count % min_commit_count == 0:\n",
    "                    consumer.commit(asynchrnous=True)\n",
    "    finally:\n",
    "        consumer.close()\n"
   ],
   "id": "eb1f556a03f67f7f",
   "outputs": [],
   "execution_count": 17
  }
 ],
 "metadata": {
  "kernelspec": {
   "display_name": "Python 3",
   "language": "python",
   "name": "python3"
  },
  "language_info": {
   "codemirror_mode": {
    "name": "ipython",
    "version": 2
   },
   "file_extension": ".py",
   "mimetype": "text/x-python",
   "name": "python",
   "nbconvert_exporter": "python",
   "pygments_lexer": "ipython2",
   "version": "2.7.6"
  }
 },
 "nbformat": 4,
 "nbformat_minor": 5
}
