{
 "cells": [
  {
   "cell_type": "code",
   "id": "initial_id",
   "metadata": {
    "collapsed": true,
    "ExecuteTime": {
     "end_time": "2025-10-19T07:29:21.635583Z",
     "start_time": "2025-10-19T07:29:21.632030Z"
    }
   },
   "source": [
    "from pyspark.sql import SparkSession, Row\n",
    "from pyspark.sql.types import StructType, StructField, IntegerType, StringType, DoubleType, LongType, DateType, TimestampType\n",
    "\n",
    "from datetime import datetime, date\n",
    "import pandas as pd"
   ],
   "outputs": [],
   "execution_count": 77
  },
  {
   "metadata": {
    "ExecuteTime": {
     "end_time": "2025-10-19T07:29:21.653511Z",
     "start_time": "2025-10-19T07:29:21.647326Z"
    }
   },
   "cell_type": "code",
   "source": [
    "# import os, sys\n",
    "# os.environ[\"PYSPARK_PYTHON\"] = r\"C:\\Users\\Lenovo\\miniconda3\\python.exe\"\n",
    "# os.environ[\"PYSPARK_DRIVER_PYTHON\"] = r\"C:\\Users\\Lenovo\\miniconda3\\python.exe\"\n",
    "\n",
    "\n",
    "# spark = SparkSession.builder.getOrCreate()\n",
    "\n",
    "spark = (\n",
    "    SparkSession.builder\n",
    "    .appName(\"PandasToSparkTest\")\n",
    "    .master(\"local[*]\")  # dùng toàn bộ CPU\n",
    "    .config(\"spark.driver.bindAddress\", \"127.0.0.1\")\n",
    "    .config(\"spark.driver.host\", \"127.0.0.1\")\n",
    "    .config(\"spark.python.worker.reuse\", \"false\")   # tránh lỗi worker treo\n",
    "    .config(\"spark.network.timeout\", \"300s\")\n",
    "    .config(\"spark.executor.heartbeatInterval\", \"60s\")\n",
    "    .config(\"spark.sql.execution.arrow.pyspark.enabled\", \"true\")\n",
    "    .getOrCreate()\n",
    ")\n",
    "\n",
    "spark.conf.set(\"spark.sql.repl.eagerEval.enable\", True)"
   ],
   "id": "269a8fd4946e75a0",
   "outputs": [],
   "execution_count": 78
  },
  {
   "metadata": {
    "ExecuteTime": {
     "end_time": "2025-10-19T07:29:21.679455Z",
     "start_time": "2025-10-19T07:29:21.658852Z"
    }
   },
   "cell_type": "code",
   "source": [
    "df = spark.createDataFrame([\n",
    "    Row(a=1, b=2., c=\"string1\", d=date(2000, 1, 1), e=datetime(2000, 1, 1, 12, 0)),\n",
    "    Row(a=2, b=3., c=\"string2\", d=date(2000, 1, 2), e=datetime(2000, 1, 2, 12, 0)),\n",
    "    Row(a=3, b=4., c=\"string3\", d=date(2000, 1, 3), e=datetime(2000, 3, 1, 12, 0)),\n",
    "])\n",
    "\n",
    "df\n"
   ],
   "id": "5236065282ef304c",
   "outputs": [
    {
     "data": {
      "text/plain": [
       "DataFrame[a: bigint, b: double, c: string, d: date, e: timestamp]"
      ]
     },
     "execution_count": 79,
     "metadata": {},
     "output_type": "execute_result"
    }
   ],
   "execution_count": 79
  },
  {
   "metadata": {
    "ExecuteTime": {
     "end_time": "2025-10-19T07:29:21.706647Z",
     "start_time": "2025-10-19T07:29:21.690473Z"
    }
   },
   "cell_type": "code",
   "source": [
    "data = [\n",
    "    Row(a=1, b=2., c=\"string1\", d=date(2000, 1, 1), e=datetime(2000, 1, 1, 12, 0)),\n",
    "    Row(a=2, b=3., c=\"string2\", d=date(2000, 1, 2), e=datetime(2000, 1, 2, 12, 0)),\n",
    "    Row(a=3, b=4., c=\"string3\", d=date(2000, 1, 3), e=datetime(2000, 3, 1, 12, 0)),\n",
    "]\n",
    "\n",
    "schema = StructType([\n",
    "    StructField(\"a\", LongType(), True),\n",
    "    StructField(\"b\", DoubleType(), True),\n",
    "    StructField(\"c\", StringType(), True),\n",
    "    StructField(\"d\", DateType(), True),\n",
    "    StructField(\"e\", TimestampType(), True),\n",
    "])\n",
    "\n",
    "df = spark.createDataFrame(data=data, schema=schema)\n",
    "df\n"
   ],
   "id": "ab9db732944063ed",
   "outputs": [
    {
     "data": {
      "text/plain": [
       "DataFrame[a: bigint, b: double, c: string, d: date, e: timestamp]"
      ]
     },
     "execution_count": 80,
     "metadata": {},
     "output_type": "execute_result"
    }
   ],
   "execution_count": 80
  },
  {
   "metadata": {
    "ExecuteTime": {
     "end_time": "2025-10-19T07:29:21.737704Z",
     "start_time": "2025-10-19T07:29:21.718276Z"
    }
   },
   "cell_type": "code",
   "source": [
    "# Create spark DataFream from pandas\n",
    "\n",
    "pd_df = pd.DataFrame({\n",
    "    'a': [1, 2, 3],\n",
    "    'b': [2., 3., 4.],\n",
    "    'c': ['string1', 'string2', 'string3'],\n",
    "    'd': [date(2000, 1, 1), date(2000, 2, 1), date(2000, 3, 1)],\n",
    "    'e': [datetime(2000, 1, 1, 12, 0), datetime(2000, 1, 2, 12, 0), datetime(2000, 1, 3, 12, 0)]\n",
    "})\n",
    "\n",
    "df = spark.createDataFrame(pd_df)\n",
    "\n",
    "df\n"
   ],
   "id": "4926c2ae24972fa2",
   "outputs": [
    {
     "data": {
      "text/plain": [
       "DataFrame[a: bigint, b: double, c: string, d: date, e: timestamp]"
      ]
     },
     "execution_count": 81,
     "metadata": {},
     "output_type": "execute_result"
    }
   ],
   "execution_count": 81
  },
  {
   "metadata": {
    "ExecuteTime": {
     "end_time": "2025-10-19T07:29:21.797988Z",
     "start_time": "2025-10-19T07:29:21.749193Z"
    }
   },
   "cell_type": "code",
   "source": [
    "df.show()\n",
    "df.show(1, vertical=True)\n",
    "df.printSchema()\n",
    "df.columns\n",
    "\n",
    "print(\"Test new 1\")\n",
    "df.select(\"a\", \"b\", \"c\").describe()\n",
    "# df.select(\"a\", \"b\", \"c\").describe().show()"
   ],
   "id": "83698d0d812cb3b3",
   "outputs": [
    {
     "name": "stdout",
     "output_type": "stream",
     "text": [
      "+---+---+-------+----------+-------------------+\n",
      "|  a|  b|      c|         d|                  e|\n",
      "+---+---+-------+----------+-------------------+\n",
      "|  1|2.0|string1|2000-01-01|2000-01-01 12:00:00|\n",
      "|  2|3.0|string2|2000-02-01|2000-01-02 12:00:00|\n",
      "|  3|4.0|string3|2000-03-01|2000-01-03 12:00:00|\n",
      "+---+---+-------+----------+-------------------+\n",
      "\n",
      "-RECORD 0------------------\n",
      " a   | 1                   \n",
      " b   | 2.0                 \n",
      " c   | string1             \n",
      " d   | 2000-01-01          \n",
      " e   | 2000-01-01 12:00:00 \n",
      "only showing top 1 row\n",
      "root\n",
      " |-- a: long (nullable = true)\n",
      " |-- b: double (nullable = true)\n",
      " |-- c: string (nullable = true)\n",
      " |-- d: date (nullable = true)\n",
      " |-- e: timestamp (nullable = true)\n",
      "\n",
      "Test new 1\n"
     ]
    },
    {
     "data": {
      "text/plain": [
       "DataFrame[summary: string, a: string, b: string, c: string]"
      ]
     },
     "execution_count": 82,
     "metadata": {},
     "output_type": "execute_result"
    }
   ],
   "execution_count": 82
  },
  {
   "metadata": {
    "ExecuteTime": {
     "end_time": "2025-10-19T07:29:21.821653Z",
     "start_time": "2025-10-19T07:29:21.809273Z"
    }
   },
   "cell_type": "code",
   "source": "df.limit(2).collect()\n",
   "id": "fc6666dff7553183",
   "outputs": [
    {
     "data": {
      "text/plain": [
       "[Row(a=1, b=2.0, c='string1', d=datetime.date(2000, 1, 1), e=datetime.datetime(2000, 1, 1, 12, 0)),\n",
       " Row(a=2, b=3.0, c='string2', d=datetime.date(2000, 2, 1), e=datetime.datetime(2000, 1, 2, 12, 0))]"
      ]
     },
     "execution_count": 83,
     "metadata": {},
     "output_type": "execute_result"
    }
   ],
   "execution_count": 83
  },
  {
   "metadata": {
    "ExecuteTime": {
     "end_time": "2025-10-19T07:29:46.296792Z",
     "start_time": "2025-10-19T07:29:46.261276Z"
    }
   },
   "cell_type": "code",
   "source": "df.a",
   "id": "bc77b7eb375d7773",
   "outputs": [
    {
     "data": {
      "text/plain": [
       "Column<'a'>"
      ]
     },
     "execution_count": 87,
     "metadata": {},
     "output_type": "execute_result"
    }
   ],
   "execution_count": 87
  },
  {
   "metadata": {
    "ExecuteTime": {
     "end_time": "2025-10-19T07:29:21.886331Z",
     "start_time": "2025-10-19T07:29:21.866725Z"
    }
   },
   "cell_type": "code",
   "source": [
    "import sys\n",
    "print(sys.executable)\n",
    "\n",
    "print(\"Spark\")\n",
    "\n",
    "spark.conf.getAll\n"
   ],
   "id": "5fb6c4bacca02f26",
   "outputs": [
    {
     "name": "stdout",
     "output_type": "stream",
     "text": [
      "C:\\Users\\Lenovo\\miniconda3\\python.exe\n",
      "Spark\n"
     ]
    },
    {
     "data": {
      "text/plain": [
       "{'spark.sql.warehouse.dir': 'file:/D:/PyCharm/Study/PySpark/spark/spark-warehouse',\n",
       " 'spark.executor.heartbeatInterval': '60s',\n",
       " 'spark.app.submitTime': '1760854880619',\n",
       " 'spark.driver.extraJavaOptions': '-Djava.net.preferIPv6Addresses=false -XX:+IgnoreUnrecognizedVMOptions --add-modules=jdk.incubator.vector --add-opens=java.base/java.lang=ALL-UNNAMED --add-opens=java.base/java.lang.invoke=ALL-UNNAMED --add-opens=java.base/java.lang.reflect=ALL-UNNAMED --add-opens=java.base/java.io=ALL-UNNAMED --add-opens=java.base/java.net=ALL-UNNAMED --add-opens=java.base/java.nio=ALL-UNNAMED --add-opens=java.base/java.util=ALL-UNNAMED --add-opens=java.base/java.util.concurrent=ALL-UNNAMED --add-opens=java.base/java.util.concurrent.atomic=ALL-UNNAMED --add-opens=java.base/jdk.internal.ref=ALL-UNNAMED --add-opens=java.base/sun.nio.ch=ALL-UNNAMED --add-opens=java.base/sun.nio.cs=ALL-UNNAMED --add-opens=java.base/sun.security.action=ALL-UNNAMED --add-opens=java.base/sun.util.calendar=ALL-UNNAMED --add-opens=java.security.jgss/sun.security.krb5=ALL-UNNAMED -Djdk.reflect.useDirectMethodHandle=false -Dio.netty.tryReflectionSetAccessible=true',\n",
       " 'spark.submit.deployMode': 'client',\n",
       " 'spark.app.id': 'local-1760854882732',\n",
       " 'spark.executor.extraJavaOptions': '-Djava.net.preferIPv6Addresses=false -XX:+IgnoreUnrecognizedVMOptions --add-modules=jdk.incubator.vector --add-opens=java.base/java.lang=ALL-UNNAMED --add-opens=java.base/java.lang.invoke=ALL-UNNAMED --add-opens=java.base/java.lang.reflect=ALL-UNNAMED --add-opens=java.base/java.io=ALL-UNNAMED --add-opens=java.base/java.net=ALL-UNNAMED --add-opens=java.base/java.nio=ALL-UNNAMED --add-opens=java.base/java.util=ALL-UNNAMED --add-opens=java.base/java.util.concurrent=ALL-UNNAMED --add-opens=java.base/java.util.concurrent.atomic=ALL-UNNAMED --add-opens=java.base/jdk.internal.ref=ALL-UNNAMED --add-opens=java.base/sun.nio.ch=ALL-UNNAMED --add-opens=java.base/sun.nio.cs=ALL-UNNAMED --add-opens=java.base/sun.security.action=ALL-UNNAMED --add-opens=java.base/sun.util.calendar=ALL-UNNAMED --add-opens=java.security.jgss/sun.security.krb5=ALL-UNNAMED -Djdk.reflect.useDirectMethodHandle=false -Dio.netty.tryReflectionSetAccessible=true',\n",
       " 'spark.driver.host': '127.0.0.1',\n",
       " 'spark.serializer.objectStreamReset': '100',\n",
       " 'spark.driver.port': '57247',\n",
       " 'spark.rdd.compress': 'True',\n",
       " 'spark.hadoop.fs.s3a.vectored.read.min.seek.size': '128K',\n",
       " 'spark.sql.artifact.isolation.enabled': 'false',\n",
       " 'spark.app.name': 'PandasToSparkTest',\n",
       " 'spark.sql.repl.eagerEval.enable': 'true',\n",
       " 'spark.hadoop.fs.s3a.vectored.read.max.merged.size': '2M',\n",
       " 'spark.network.timeout': '300s',\n",
       " 'spark.submit.pyFiles': '',\n",
       " 'spark.ui.showConsoleProgress': 'true',\n",
       " 'spark.driver.bindAddress': '127.0.0.1',\n",
       " 'spark.python.worker.reuse': 'false',\n",
       " 'spark.app.startTime': '1760854881648',\n",
       " 'spark.executor.id': 'driver',\n",
       " 'spark.master': 'local[*]',\n",
       " 'spark.sql.execution.arrow.pyspark.enabled': 'true'}"
      ]
     },
     "execution_count": 85,
     "metadata": {},
     "output_type": "execute_result"
    }
   ],
   "execution_count": 85
  }
 ],
 "metadata": {
  "kernelspec": {
   "display_name": "Python 3",
   "language": "python",
   "name": "python3"
  },
  "language_info": {
   "codemirror_mode": {
    "name": "ipython",
    "version": 2
   },
   "file_extension": ".py",
   "mimetype": "text/x-python",
   "name": "python",
   "nbconvert_exporter": "python",
   "pygments_lexer": "ipython2",
   "version": "2.7.6"
  }
 },
 "nbformat": 4,
 "nbformat_minor": 5
}
